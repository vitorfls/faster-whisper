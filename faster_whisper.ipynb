{
  "nbformat": 4,
  "nbformat_minor": 0,
  "metadata": {
    "colab": {
      "provenance": [],
      "gpuType": "T4",
      "authorship_tag": "ABX9TyMcHDHOh+IXPgvMkMv11LT/",
      "include_colab_link": true
    },
    "kernelspec": {
      "name": "python3",
      "display_name": "Python 3"
    },
    "language_info": {
      "name": "python"
    },
    "accelerator": "GPU"
  },
  "cells": [
    {
      "cell_type": "markdown",
      "metadata": {
        "id": "view-in-github",
        "colab_type": "text"
      },
      "source": [
        "<a href=\"https://colab.research.google.com/github/vitorfls/faster-whisper/blob/main/faster_whisper.ipynb\" target=\"_parent\"><img src=\"https://colab.research.google.com/assets/colab-badge.svg\" alt=\"Open In Colab\"/></a>"
      ]
    },
    {
      "cell_type": "code",
      "source": [
        "!pip install faster-whisper"
      ],
      "metadata": {
        "id": "fRk0S_e8_aoj"
      },
      "execution_count": null,
      "outputs": []
    },
    {
      "cell_type": "code",
      "source": [],
      "metadata": {
        "id": "a0pJFoe7hqZW"
      },
      "execution_count": null,
      "outputs": []
    },
    {
      "cell_type": "code",
      "source": [
        "from faster_whisper import WhisperModel\n",
        "\n",
        "model = WhisperModel(\"large-v2\", device=\"cuda\", compute_type=\"float16\")\n",
        "\n",
        "segments, info = model.transcribe(\"sabrina.WAV\", beam_size=5, language=\"pt\", task=\"transcribe\")\n",
        "\n",
        "result = \"\"\n",
        "for segment in segments:\n",
        "    result += \"[%.2fs | %.fs] %s\\n\" % (segment.start, segment.end, segment.text)\n",
        "\n",
        "print(result)\n"
      ],
      "metadata": {
        "id": "wIIR3GMe-eUk"
      },
      "execution_count": null,
      "outputs": []
    }
  ]
}